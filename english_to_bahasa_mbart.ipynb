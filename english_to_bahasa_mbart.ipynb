{
  "nbformat": 4,
  "nbformat_minor": 0,
  "metadata": {
    "colab": {
      "provenance": [],
      "collapsed_sections": [],
      "include_colab_link": true
    },
    "kernelspec": {
      "name": "python3",
      "display_name": "Python 3"
    },
    "accelerator": "GPU"
  },
  "cells": [
    {
      "cell_type": "markdown",
      "metadata": {
        "id": "view-in-github",
        "colab_type": "text"
      },
      "source": [
        "<a href=\"https://colab.research.google.com/github/mangarahutagalung/text-augmentation-translator/blob/main/english_to_bahasa_mbart.ipynb\" target=\"_parent\"><img src=\"https://colab.research.google.com/assets/colab-badge.svg\" alt=\"Open In Colab\"/></a>"
      ]
    },
    {
      "cell_type": "code",
      "metadata": {
        "id": "yR0_MKOOeRNO"
      },
      "source": [
        "!pip install transformers -U -q"
      ],
      "execution_count": null,
      "outputs": []
    },
    {
      "cell_type": "code",
      "metadata": {
        "colab": {
          "base_uri": "https://localhost:8080/"
        },
        "id": "2RtEvp3Me4va",
        "outputId": "042b187e-9609-4a05-ce64-7941db880087"
      },
      "source": [
        "! pip install sentencepiece"
      ],
      "execution_count": null,
      "outputs": [
        {
          "output_type": "stream",
          "name": "stdout",
          "text": [
            "Looking in indexes: https://pypi.org/simple, https://us-python.pkg.dev/colab-wheels/public/simple/\n",
            "Requirement already satisfied: sentencepiece in /usr/local/lib/python3.7/dist-packages (0.1.97)\n"
          ]
        }
      ]
    },
    {
      "cell_type": "code",
      "metadata": {
        "colab": {
          "base_uri": "https://localhost:8080/"
        },
        "id": "OLwUoKhxD-jt",
        "outputId": "2cc1e2f9-2679-4801-f9c8-ba3d1cf00214"
      },
      "source": [
        "!pip freeze | grep transformers"
      ],
      "execution_count": null,
      "outputs": [
        {
          "output_type": "stream",
          "name": "stdout",
          "text": [
            "transformers==4.23.1\n"
          ]
        }
      ]
    },
    {
      "cell_type": "code",
      "metadata": {
        "id": "apok22zGeHWg"
      },
      "source": [
        "from transformers import MBartForConditionalGeneration, MBart50TokenizerFast"
      ],
      "execution_count": null,
      "outputs": []
    },
    {
      "cell_type": "code",
      "metadata": {
        "colab": {
          "base_uri": "https://localhost:8080/"
        },
        "id": "7aB7NFLzegiQ",
        "outputId": "e9a457a3-f9d6-40ad-9f10-ac7bf91b36eb"
      },
      "source": [
        "from google.colab import drive\n",
        "\n",
        "drive.mount('/content/gdrive')"
      ],
      "execution_count": null,
      "outputs": [
        {
          "output_type": "stream",
          "name": "stdout",
          "text": [
            "Drive already mounted at /content/gdrive; to attempt to forcibly remount, call drive.mount(\"/content/gdrive\", force_remount=True).\n"
          ]
        }
      ]
    },
    {
      "cell_type": "code",
      "source": [
        "import pandas as pd"
      ],
      "metadata": {
        "id": "GwYTBVoLjCZk"
      },
      "execution_count": null,
      "outputs": []
    },
    {
      "cell_type": "code",
      "source": [
        "train_df = pd.read_csv(\"/content/gdrive/MyDrive/Colab Notebooks/BERT translation/train.csv\")\n",
        "example_train_df = train_df[:6]\n",
        "full_text_lst = example_train_df.full_text.to_list()"
      ],
      "metadata": {
        "id": "AIzMiawYi0Qo"
      },
      "execution_count": null,
      "outputs": []
    },
    {
      "cell_type": "code",
      "metadata": {
        "id": "BQEzddKeeN2N"
      },
      "source": [
        "model = MBartForConditionalGeneration.from_pretrained(\"facebook/mbart-large-50-one-to-many-mmt\")"
      ],
      "execution_count": null,
      "outputs": []
    },
    {
      "cell_type": "code",
      "metadata": {
        "id": "NJPI14dwX2oC"
      },
      "source": [
        "tokenizer = MBart50TokenizerFast.from_pretrained(\"facebook/mbart-large-50-one-to-many-mmt\", src_lang=\"en_XX\")"
      ],
      "execution_count": null,
      "outputs": []
    },
    {
      "cell_type": "code",
      "source": [
        "full_text_lst_example = full_text_lst[:6]"
      ],
      "metadata": {
        "id": "Oov8FWGYNATF"
      },
      "execution_count": null,
      "outputs": []
    },
    {
      "cell_type": "code",
      "source": [
        "max_len = 400"
      ],
      "metadata": {
        "id": "VdlCQndjlqD-"
      },
      "execution_count": null,
      "outputs": []
    },
    {
      "cell_type": "code",
      "source": [
        "model_inputs = tokenizer(full_text_lst_example,\n",
        "                         return_tensors=\"pt\",\n",
        "                         add_special_tokens = True,\n",
        "                         max_length = max_len,\n",
        "                         truncation = True,\n",
        "                         padding = True)\n",
        "\n",
        "# translate from English to Bahasa Indonesia\n",
        "generated_tokens = model.generate(\n",
        "    **model_inputs,\n",
        "    max_length = max_len,\n",
        "    forced_bos_token_id=tokenizer.lang_code_to_id[\"id_ID\"]\n",
        ")\n",
        "\n",
        "translation = tokenizer.batch_decode(generated_tokens, skip_special_tokens=True)"
      ],
      "metadata": {
        "id": "QFR6wS3qaI4R"
      },
      "execution_count": null,
      "outputs": []
    },
    {
      "cell_type": "code",
      "source": [
        "translation"
      ],
      "metadata": {
        "colab": {
          "base_uri": "https://localhost:8080/"
        },
        "id": "a2KO97Tza1W7",
        "outputId": "1960ce40-531e-4959-da16-cab1df4d5952"
      },
      "execution_count": null,
      "outputs": [
        {
          "output_type": "execute_result",
          "data": {
            "text/plain": [
              "['Saya pikir murid-murid akan mendapat manfaat dari belajar di rumah, karena mereka tidak harus berubah dan bangun di pagi hari untuk mandi dan melakukan rambut di sana. hanya mengambil kelas yang membantu mereka karena di rumah itu mereka akan memberikan lebih banyak perhatian. mereka akan merasa nyaman di rumah. Bagian tersulit di sekolah adalah mempersiapkan diri. Anda bangun untuk mengcukur gigi Anda dan pergi ke kamar Anda dan melihat pakaian Anda. setelah Anda berpikir Anda memilih pakaian Anda pergi melihat ke cermin dan Anda tidak akan menyukainya atau Anda melihat dan melihat kabut. Lalu Anda harus berubah. dengan kelas online Anda dapat mengenakan apapun dan tetap di rumah dan Anda tidak perlu stres tentang apa yang harus Anda kenakan. kebanyakan siswa biasanya mengambil mandi sebelum sekolah. mereka mengambilnya sebelum tidur atau saat mereka bangun. beberapa siswa melakukan keduanya untuk mencium bau baik. yang menyebabkan mereka melewatkan bus dan efek pada waktu pelajaran di sana karena mereka datang terlambat ke sekolah. ketika Anda memiliki kelas online Anda tidak akan perlu melewatkan pelajaran karena Anda dapat mengatur semuanya dan pergi mengambil mandi dan saat Anda keluar siap untuk pergi. ketika rumah Anda nyaman dan Anda memperhatikan. itu memberikan keuntungan untuk menjadi lebih pintar dan bahkan melewati disana teman sekelas pada pekerjaan kelas. sekolah publik sulit bahkan jika Anda mencoba. beberapa guru tidak tahu bagaimana untuk mengajarinya pada saat itu cara yang murid-murid mengertinya. yang menyebabkan mereka gagal dan mereka dapat mengulang kelas..',\n",
              " 'Ketika sebuah masalah adalah sebuah perubahan Anda harus membiarkannya melakukan hal terbaik pada Anda tidak peduli apa yang terjadi itu dapat mengubah pikiran Anda. terkadang Anda harus bangun dan melihat apa yang ada di sekitar Anda karena masalah adalah cara terbaik untuk mengubah apa yang Anda ingin mengubah selama beberapa waktu yang lalu. Masalah adalah sebuah perubahan untuk Anda karena itu dapat membuat Anda melihat berbeda dan membantu Anda memahami bagaimana tings wok. Pertama-tama itu dapat membuat Anda melihat berbeda daripada yang lain. Contohnya saya ingat bahwa ketika saya datang ke Amerika Serikat saya berpikir bahwa tidak ada yang akan mengubah saya karena saya pikir tidak ada yang akan mengubah saya karena semuanya berbeda di negara saya dan kemudian saya realis bahwa salah karena sebuah masalah dapat mengubah Anda tetapi terkadang tidak dapat mengubah cara itu, tetapi saya ingat bahwa saya sangat malu tapi saya berpikir bahwa perubahan banyak karena terkadang masalah saya membuat saya berpikir bahwa ada lebih banyak hal yang saya tidak pernah lihat dalam hidup saya tapi saya hanya perlu melihatnya dari cara yang berbeda dan tidak membiarkan tidak ada yang terjadi dan memerintah perubahan yang saya ingin membuat karena hanya masalah. Contohnya saya berpikir bahwa tidak ada yang akan mengubah saya dan saya tidak perlu lagi malu menjadi saya harus mulai melihat semuanya dengan cara yang berbeda karena Anda dapat menjadi gila pada setiap orang namun Anda harus tahu apa yang akan terjadi setelah itu, orang-orang mungkin melihat Anda berbeda tapi satu-satunya cara yang Anda tahu bagaimana mengubah adalah dengan melakukan yang terbaik dan tidak membiarkan apapun atau tidak membiarkan tubuh mengubah apapun tentang Anda. Cara yang Anda ingin mengubah tidak ada yang memiliki itu dan tidak dapat melakukan apapun tentangnya karena itu adalah pilihan Anda dan masalah Anda dan Anda dapat memutuskan apa yang harus dilakukan dengannya. kedua dari semua dapat membantu Anda untuk mengerti bagaimana hal-hal bekerja. Contohnya ibu saya memiliki banyak masalah namun dia memiliki keyakinan ketika dia berada di sekitar orang-orang, ibu saya takut akan tinggi dan saya tidak takut akan tinggi saya tidak mengerti mengapa mos saya',\n",
              " 'Jika Anda mengubah kebijakan sekolah untuk mendapatkan nilai B yang tidak adil. Karena banyak siswa memiliki nilai C. Jadi itu berarti mereka tidak dapat pergi untuk olahraga atau kegiatan lain yang mereka ingin lakukan buruk. Itu seperti mengambil semua yang mereka miliki. Bagaimana jika anak-anak ingin menjadi baik pada sesuatu, namun sekarang mereka tidak bisa karena kebijakan sekolah itu. Jika mereka memiliki nilai C, mereka masih harus dapat pergi untuk olahraga atau kegiatan. Rata-rata C tidaklah buruk, nilainya lebih tinggi daripada rata-rata D. Jika polisi sekolah memiliki rata-rata D yang lebih rendah, mereka tidak seharusnya melakukan olahraga atau kegiatan. Jika mereka memiliki rata-rata D di sekolah karena tidak bekerja keras, itu berarti mereka tidak akan berusaha keras. Jika mereka memiliki rata-rata C dan mereka akan berusaha keras mereka harus dapat pergi untuk olahraga atau kegiatan. Bagaimana jika semua orang yang baik dalam olahraga memiliki nilai C di sekolah, itu berarti mereka tidak dapat bermain dan akan kehilangan setiap permainan yang kita miliki. Itu adalah kebijakan yang baik untuk mendapatkan nilai namun tidak mengambil sesuatu yang mereka pedulikan. Semua orang harus dapat pergi untuk olahraga jika mereka mau. Jika kebijakan sekolah terjadi, sekolah akan masuk penjara sekarang, karena sekarang para siswa tidak dapat pergi untuk olahraga atau kegiatan lain. Para siswa yang melakukan hal yang baik di sekolah seharusnya merasa baik tentang diri mereka sendiri namun kita tidak seharusnya mengambil para siswa lain dari yang lain. Jika kita melakukan kebijakan ini, siswa akan mencoba meningkatkan nilai mereka namun jika mereka tidak dapat melakukan apa yang mereka pedulikan. Apakah mereka harus keluar dan berpikir bahwa sekolah masuk penjara. Jika mereka melakukan hal ini seperti mengambil video game mereka. Yang saya katakan adalah mereka memiliki hak untuk pergi untuk olahraga atau kegiatan.',\n",
              " 'Waktu terbaik dalam hidup adalah saat Anda menjadi diri Anda sendiri. Saya setuju bahwa pencapaian terbesar, adalah saat Anda menjadi diri Anda sendiri di dunia yang terus mencoba membuat Anda sesuatu yang lain. Karena Anda membuat pilihan Anda sendiri, Anda menjadi lebih bahagia, dan Anda menghormati orang lain. Pertama, Anda membuat pilihan Anda sendiri dengan menjadi diri Anda sendiri. Menjadi diri Anda sendiri berarti Anda harus dapat membuat pilihan Anda sendiri dan tidak malu atau takut akan apa yang Anda lakukan. Karena Anda mendefinisikan diri Anda sendiri dengan melakukan hal-hal yang Anda inginkan. Beberapa orang mengikuti orang lain, sehingga, mereka tidak membuat pilihan mereka sendiri. Orang-orang takut membuat pilihan mereka sendiri karena mereka tidak ingin ditolak atau salah. Di dunia ini, sebagian besar remaja bertindak dan mengikuti orang-orang yang kuat dan nakal. Alasan mereka mengikuti mereka dan membuat pilihan yang sama yang mereka buat, adalah karena mereka takut mereka akan dipukuli dan ditinggalkan. Secara pribadi saat saya datang ke Amerika Serikat saya pernah mengikuti orang lain, karena saya pikir mereka luar biasa. Namun suatu hari, saya tahu saya berjalan di jalan yang salah dan saya meninggalkan mereka. Membuat pilihan Anda sendiri membuat Anda bahagia karena Anda dapat melakukan apa yang Anda inginkan dan apa yang Anda inginkan. Sulit untuk membuat pilihan Anda sendiri, tapi suatu hari Anda harus membuat pilihan Anda sendiri. Semakin dewasa Anda semakin mudah untuk tidak takut akan apa yang Anda lakukan dan bagaimana orang lain melihatnya, karena pada akhir hari itu hidup Anda dan Anda melakukan apa yang Anda pikir benar. Kedua, Anda menjadi lebih bahagia dengan menjadi diri Anda sendiri karena Anda membuat pilihan Anda sendiri, Anda bertanggung jawab dan Anda melakukan apa yang membuat Anda bahagia. Juga, beberapa orang bertindak seperti mereka bahagia walaupun tidak menjadi diri mereka sendiri, tapi sebenarnya, mereka',\n",
              " 'Tindakan kecil kebaikan dapat memberi dampak pada orang lain dapat mengubah orang menjadi orang yang lebih baik Anda dapat memiliki dampak kebaikan dengan seorang rumah tangga yang dapat mengubah hidupnya atau dengan beberapa orang yang membutuhkan mereka akan tahu Anda adalah orang baik jika Anda adalah orang baik di mana saja Anda pergi orang akan menyukai kepribadian Anda jadi Anda harus menjadi orang baik dengan orang lain seperti wanita tua yang mencoba melintasi jalan itu dampak kebaikan saat Anda melakukannya Anda merasa menjadi orang hebat Anda dapat mengubah orang dengan cara mereka berpikir dengan membantu orang lain merawat orang lain dengan baik memberi mereka beberapa saran saat Anda melihat seseorang memerlukannya membantu seseorang yang lebih tua lalu Anda memberikan makanan dan pakaian baru kepada orang tunawisma adalah suatu tindakan besar kebaikan mungkin Anda takut mengubah hidupnya namun Anda akan mengubah suatu hari dalam hidupnya saat Anda melakukan hal-hal yang Anda rasakan emosional. Contoh lain dari tindakan kebaikan adalah saat Anda membantu teman Anda untuk belajar untuk sebuah tes atau menjelaskan mereka atau saat mereka memerlukan uang Anda memberi uang adalah suatu tindakan kebaikan karena Anda membantu teman Anda. Contoh lain adalah tidak menuang sampah ke lantai jika Anda menaruh sampah di tempat yang dimiliki itu adalah suatu tindakan kebaikan karena memberi manfaat kepada Bumi dan masyarakat..',\n",
              " 'Kepala sekolah kami harus memiliki pusat komunitas. Alasannya, adalah agar para siswa dapat belajar apa yang diperlukan oleh komunitas kami, bagaimana membuat komunitas kami menjadi tempat yang lebih baik, dan mengapa komunitas kami penting bagi para siswa. Sangat bagus untuk memiliki pusat komunitas untuk mengetahui bagaimana kami dapat membuat hal-hal lebih baik. Para siswa berpikir bahwa pusat komunitas mengambil waktu mereka. tapi mereka harus belajar apa yang diperlukan oleh komunitas kami. para siswa akan berpartisipasi dalam kelompok siswa membuat daftar apa yang diperlukan oleh komunitas kami, sehingga para siswa akan belajar apa yang diperlukan oleh komunitas kami! para siswa akan menunjukkan daftar hal-hal yang diperlukan oleh komunitas kami! karena para siswa akan memberikan penghargaan ekstra untuk mereka yang memiliki nilai rendah! Beberapa siswa tidak berpartisipasi karena teman mereka berkata membuang waktunya. tidak akan membuang waktu ketika Anda mengetahui bagaimana komunitas kami dapat menjadi tempat yang lebih baik bagi kami. para siswa harus tahu bahwa program ini tentang hidup kami sendiri, karena jika komunitas kami buruk dan hidup kami akan menjadi buruk. karena para siswa akan ingin berpartisipasi dan akan ingin membuat komunitas kami menjadi tempat yang lebih baik bagi kami. beberapa siswa mungkin berkata mengapa komunitas kami penting bagaimanapun juga, tidak ada apa-apa yang salah. tapi ketika mereka tahu apa yang diperlukan oleh komunitas kami, mereka akan ingin tahu dan ingin berpartisipasi dan tahu mengapa komunitas kami penting. para siswa akan memperoleh nilai yang bagus jika mereka berpartisipasi dalam komunitas kami karena itu seperti sebuah penghargaan tambahan. karena teman mereka akan ingin menikmati program ini karena teman mereka mengatakannya tentang hal itu. jadi kepala sekolah kami akan menjadi tempat yang bagus bagi para siswa untuk belajar banyak hal. jadi saya rasa ini akan menjadi ide bagus untuk sekolah kami. para siswa akan belajar apa yang diperlukan oleh komunitas kami, bagaimana membuat komunitas kami menjadi tempat yang lebih baik, dan mengapa komunitas kami penting! Sincerely, STUDENT_NAME']"
            ]
          },
          "metadata": {},
          "execution_count": 25
        }
      ]
    },
    {
      "cell_type": "code",
      "source": [
        "example_train_df['bahasa_indonesia'] = translation\n",
        "example_train_df"
      ],
      "metadata": {
        "colab": {
          "base_uri": "https://localhost:8080/",
          "height": 342
        },
        "id": "sbn8SWne3uDb",
        "outputId": "5b85781f-785b-4da9-f17b-5ed7a50faa3f"
      },
      "execution_count": null,
      "outputs": [
        {
          "output_type": "stream",
          "name": "stderr",
          "text": [
            "/usr/local/lib/python3.7/dist-packages/ipykernel_launcher.py:1: SettingWithCopyWarning: \n",
            "A value is trying to be set on a copy of a slice from a DataFrame.\n",
            "Try using .loc[row_indexer,col_indexer] = value instead\n",
            "\n",
            "See the caveats in the documentation: https://pandas.pydata.org/pandas-docs/stable/user_guide/indexing.html#returning-a-view-versus-a-copy\n",
            "  \"\"\"Entry point for launching an IPython kernel.\n"
          ]
        },
        {
          "output_type": "execute_result",
          "data": {
            "text/plain": [
              "        text_id                                          full_text  cohesion  \\\n",
              "0  0016926B079C  I think that students would benefit from learn...       3.5   \n",
              "1  0022683E9EA5  When a problem is a change you have to let it ...       2.5   \n",
              "2  00299B378633  Dear, Principal\\n\\nIf u change the school poli...       3.0   \n",
              "3  003885A45F42  The best time in life is when you become yours...       4.5   \n",
              "4  0049B1DF5CCC  Small act of kindness can impact in other peop...       2.5   \n",
              "5  004AC288D833  Dear Principal,\\r\\n\\r\\nOur school should have ...       3.5   \n",
              "\n",
              "   syntax  vocabulary  phraseology  grammar  conventions  \\\n",
              "0     3.5         3.0          3.0      4.0          3.0   \n",
              "1     2.5         3.0          2.0      2.0          2.5   \n",
              "2     3.5         3.0          3.0      3.0          2.5   \n",
              "3     4.5         4.5          4.5      4.0          5.0   \n",
              "4     3.0         3.0          3.0      2.5          2.5   \n",
              "5     4.0         4.0          3.5      3.5          4.0   \n",
              "\n",
              "                                    bahasa_indonesia  \n",
              "0  Saya pikir murid-murid akan mendapat manfaat d...  \n",
              "1  Ketika sebuah masalah adalah sebuah perubahan ...  \n",
              "2  Jika Anda mengubah kebijakan sekolah untuk men...  \n",
              "3  Waktu terbaik dalam hidup adalah saat Anda men...  \n",
              "4  Tindakan kecil kebaikan dapat memberi dampak p...  \n",
              "5  Kepala sekolah kami harus memiliki pusat komun...  "
            ],
            "text/html": [
              "\n",
              "  <div id=\"df-c70dd097-5e40-48c1-8986-6f5f953692ac\">\n",
              "    <div class=\"colab-df-container\">\n",
              "      <div>\n",
              "<style scoped>\n",
              "    .dataframe tbody tr th:only-of-type {\n",
              "        vertical-align: middle;\n",
              "    }\n",
              "\n",
              "    .dataframe tbody tr th {\n",
              "        vertical-align: top;\n",
              "    }\n",
              "\n",
              "    .dataframe thead th {\n",
              "        text-align: right;\n",
              "    }\n",
              "</style>\n",
              "<table border=\"1\" class=\"dataframe\">\n",
              "  <thead>\n",
              "    <tr style=\"text-align: right;\">\n",
              "      <th></th>\n",
              "      <th>text_id</th>\n",
              "      <th>full_text</th>\n",
              "      <th>cohesion</th>\n",
              "      <th>syntax</th>\n",
              "      <th>vocabulary</th>\n",
              "      <th>phraseology</th>\n",
              "      <th>grammar</th>\n",
              "      <th>conventions</th>\n",
              "      <th>bahasa_indonesia</th>\n",
              "    </tr>\n",
              "  </thead>\n",
              "  <tbody>\n",
              "    <tr>\n",
              "      <th>0</th>\n",
              "      <td>0016926B079C</td>\n",
              "      <td>I think that students would benefit from learn...</td>\n",
              "      <td>3.5</td>\n",
              "      <td>3.5</td>\n",
              "      <td>3.0</td>\n",
              "      <td>3.0</td>\n",
              "      <td>4.0</td>\n",
              "      <td>3.0</td>\n",
              "      <td>Saya pikir murid-murid akan mendapat manfaat d...</td>\n",
              "    </tr>\n",
              "    <tr>\n",
              "      <th>1</th>\n",
              "      <td>0022683E9EA5</td>\n",
              "      <td>When a problem is a change you have to let it ...</td>\n",
              "      <td>2.5</td>\n",
              "      <td>2.5</td>\n",
              "      <td>3.0</td>\n",
              "      <td>2.0</td>\n",
              "      <td>2.0</td>\n",
              "      <td>2.5</td>\n",
              "      <td>Ketika sebuah masalah adalah sebuah perubahan ...</td>\n",
              "    </tr>\n",
              "    <tr>\n",
              "      <th>2</th>\n",
              "      <td>00299B378633</td>\n",
              "      <td>Dear, Principal\\n\\nIf u change the school poli...</td>\n",
              "      <td>3.0</td>\n",
              "      <td>3.5</td>\n",
              "      <td>3.0</td>\n",
              "      <td>3.0</td>\n",
              "      <td>3.0</td>\n",
              "      <td>2.5</td>\n",
              "      <td>Jika Anda mengubah kebijakan sekolah untuk men...</td>\n",
              "    </tr>\n",
              "    <tr>\n",
              "      <th>3</th>\n",
              "      <td>003885A45F42</td>\n",
              "      <td>The best time in life is when you become yours...</td>\n",
              "      <td>4.5</td>\n",
              "      <td>4.5</td>\n",
              "      <td>4.5</td>\n",
              "      <td>4.5</td>\n",
              "      <td>4.0</td>\n",
              "      <td>5.0</td>\n",
              "      <td>Waktu terbaik dalam hidup adalah saat Anda men...</td>\n",
              "    </tr>\n",
              "    <tr>\n",
              "      <th>4</th>\n",
              "      <td>0049B1DF5CCC</td>\n",
              "      <td>Small act of kindness can impact in other peop...</td>\n",
              "      <td>2.5</td>\n",
              "      <td>3.0</td>\n",
              "      <td>3.0</td>\n",
              "      <td>3.0</td>\n",
              "      <td>2.5</td>\n",
              "      <td>2.5</td>\n",
              "      <td>Tindakan kecil kebaikan dapat memberi dampak p...</td>\n",
              "    </tr>\n",
              "    <tr>\n",
              "      <th>5</th>\n",
              "      <td>004AC288D833</td>\n",
              "      <td>Dear Principal,\\r\\n\\r\\nOur school should have ...</td>\n",
              "      <td>3.5</td>\n",
              "      <td>4.0</td>\n",
              "      <td>4.0</td>\n",
              "      <td>3.5</td>\n",
              "      <td>3.5</td>\n",
              "      <td>4.0</td>\n",
              "      <td>Kepala sekolah kami harus memiliki pusat komun...</td>\n",
              "    </tr>\n",
              "  </tbody>\n",
              "</table>\n",
              "</div>\n",
              "      <button class=\"colab-df-convert\" onclick=\"convertToInteractive('df-c70dd097-5e40-48c1-8986-6f5f953692ac')\"\n",
              "              title=\"Convert this dataframe to an interactive table.\"\n",
              "              style=\"display:none;\">\n",
              "        \n",
              "  <svg xmlns=\"http://www.w3.org/2000/svg\" height=\"24px\"viewBox=\"0 0 24 24\"\n",
              "       width=\"24px\">\n",
              "    <path d=\"M0 0h24v24H0V0z\" fill=\"none\"/>\n",
              "    <path d=\"M18.56 5.44l.94 2.06.94-2.06 2.06-.94-2.06-.94-.94-2.06-.94 2.06-2.06.94zm-11 1L8.5 8.5l.94-2.06 2.06-.94-2.06-.94L8.5 2.5l-.94 2.06-2.06.94zm10 10l.94 2.06.94-2.06 2.06-.94-2.06-.94-.94-2.06-.94 2.06-2.06.94z\"/><path d=\"M17.41 7.96l-1.37-1.37c-.4-.4-.92-.59-1.43-.59-.52 0-1.04.2-1.43.59L10.3 9.45l-7.72 7.72c-.78.78-.78 2.05 0 2.83L4 21.41c.39.39.9.59 1.41.59.51 0 1.02-.2 1.41-.59l7.78-7.78 2.81-2.81c.8-.78.8-2.07 0-2.86zM5.41 20L4 18.59l7.72-7.72 1.47 1.35L5.41 20z\"/>\n",
              "  </svg>\n",
              "      </button>\n",
              "      \n",
              "  <style>\n",
              "    .colab-df-container {\n",
              "      display:flex;\n",
              "      flex-wrap:wrap;\n",
              "      gap: 12px;\n",
              "    }\n",
              "\n",
              "    .colab-df-convert {\n",
              "      background-color: #E8F0FE;\n",
              "      border: none;\n",
              "      border-radius: 50%;\n",
              "      cursor: pointer;\n",
              "      display: none;\n",
              "      fill: #1967D2;\n",
              "      height: 32px;\n",
              "      padding: 0 0 0 0;\n",
              "      width: 32px;\n",
              "    }\n",
              "\n",
              "    .colab-df-convert:hover {\n",
              "      background-color: #E2EBFA;\n",
              "      box-shadow: 0px 1px 2px rgba(60, 64, 67, 0.3), 0px 1px 3px 1px rgba(60, 64, 67, 0.15);\n",
              "      fill: #174EA6;\n",
              "    }\n",
              "\n",
              "    [theme=dark] .colab-df-convert {\n",
              "      background-color: #3B4455;\n",
              "      fill: #D2E3FC;\n",
              "    }\n",
              "\n",
              "    [theme=dark] .colab-df-convert:hover {\n",
              "      background-color: #434B5C;\n",
              "      box-shadow: 0px 1px 3px 1px rgba(0, 0, 0, 0.15);\n",
              "      filter: drop-shadow(0px 1px 2px rgba(0, 0, 0, 0.3));\n",
              "      fill: #FFFFFF;\n",
              "    }\n",
              "  </style>\n",
              "\n",
              "      <script>\n",
              "        const buttonEl =\n",
              "          document.querySelector('#df-c70dd097-5e40-48c1-8986-6f5f953692ac button.colab-df-convert');\n",
              "        buttonEl.style.display =\n",
              "          google.colab.kernel.accessAllowed ? 'block' : 'none';\n",
              "\n",
              "        async function convertToInteractive(key) {\n",
              "          const element = document.querySelector('#df-c70dd097-5e40-48c1-8986-6f5f953692ac');\n",
              "          const dataTable =\n",
              "            await google.colab.kernel.invokeFunction('convertToInteractive',\n",
              "                                                     [key], {});\n",
              "          if (!dataTable) return;\n",
              "\n",
              "          const docLinkHtml = 'Like what you see? Visit the ' +\n",
              "            '<a target=\"_blank\" href=https://colab.research.google.com/notebooks/data_table.ipynb>data table notebook</a>'\n",
              "            + ' to learn more about interactive tables.';\n",
              "          element.innerHTML = '';\n",
              "          dataTable['output_type'] = 'display_data';\n",
              "          await google.colab.output.renderOutput(dataTable, element);\n",
              "          const docLink = document.createElement('div');\n",
              "          docLink.innerHTML = docLinkHtml;\n",
              "          element.appendChild(docLink);\n",
              "        }\n",
              "      </script>\n",
              "    </div>\n",
              "  </div>\n",
              "  "
            ]
          },
          "metadata": {},
          "execution_count": 19
        }
      ]
    },
    {
      "cell_type": "code",
      "source": [
        "tokenizer_bahasa = MBart50TokenizerFast.from_pretrained(\"facebook/mbart-large-50-one-to-many-mmt\", src_lang=\"id_ID\")\n",
        "\n",
        "model_inputs_back = tokenizer_bahasa(translation,\n",
        "                         return_tensors=\"pt\",\n",
        "                         add_special_tokens = True,\n",
        "                         max_length = max_len,\n",
        "                         truncation = True,\n",
        "                         padding = True)\n",
        "\n",
        "# translate from Bahasa Indonesia back to English\n",
        "generated_tokens_back = model.generate(\n",
        "    **model_inputs_back,\n",
        "    max_length = max_len,\n",
        "    forced_bos_token_id=tokenizer_bahasa.lang_code_to_id[\"en_XX\"]\n",
        ")\n",
        "\n",
        "back_translation = tokenizer_bahasa.batch_decode(generated_tokens_back, skip_special_tokens=True)"
      ],
      "metadata": {
        "id": "kGTUpnMc46KS"
      },
      "execution_count": null,
      "outputs": []
    },
    {
      "cell_type": "code",
      "source": [
        "back_translation"
      ],
      "metadata": {
        "colab": {
          "base_uri": "https://localhost:8080/"
        },
        "id": "lweu9qYR5Xf7",
        "outputId": "47217199-e16f-4b4f-c6c8-47fcddbe1e88"
      },
      "execution_count": null,
      "outputs": [
        {
          "output_type": "execute_result",
          "data": {
            "text/plain": [
              "['Saya pikir murid-murid akan mendapat manfaat from belajar di rumah, karena mereka tidak harus berubah dan bangun di pagi hari untuk mandi dan melakukan rambut di sana. hanya mengambil kelas yang membantu mereka karena di rumah itu mereka akan memberikan lebih banyak perhatian. mereka akan merasa nyaman di rumah. Bagian tersulit di sekolah is mempersiapkan diri. Anda bangun for mengcukur gigi Anda dan pergi ke kamar Anda dan melihat pakaian Anda. setelah Anda berpikir Anda memilih pakaian Anda pergi melihat ke cermin dan Anda tidak akan menyukainya atau Anda melihat dan melihat kabut. Lalu Anda harus berubah. with kelas online Anda dapat mengenakan apapun dan tetap di rumah dan Anda tidak perlu stres tentang apa yang harus Anda kenakan. kebanyakan siswa biasanya mengambil mandi sebelum sekolah. mereka mengambilnya sebelum tidur atau saat mereka bangun. beberapa siswa melakukan keduanya for mencium bau baik. yang menyebabkan mereka melewatkan bus dan effect pada waktu pelajaran di sana karena mereka datang terlambat ke sekolah. ketika Anda memiliki kelas online Anda tidak akan perlu melewatkan pelajaran karena Anda dapat mengatur semuanya dan pergi mengambil mandi dan saat Anda keluar siap untuk pergi. ketika rumah Anda nyaman dan Anda memperhatikan. itu memberikan keuntungan untuk menjadi lebih pintar dan bahkan melewati disana teman sekelas pada pekerjaan kelas. sekolah publik sulit bahkan jika Anda mencoba. beberapa guru tidak tahu bagaimana untuk mengajarinya pada saat itu cara yang murid-murid mengertinya. yang menyebabkan mereka gagal dan mereka dapat mengulang kelas..',\n",
              " 'When sebuah problem is sebuah perubahan Anda harus membiarkannya melakukan hal terbaik pada Anda not peduli apa yang terjadi that dapat mengubah pikiran Anda. terkadang Anda harus bangun dan melihat apa yang ada di sekitar Anda karena problem is cara terbaik untuk mengubah apa yang Anda ingin mengubah selama beberapa waktu yang lalu. Masalah is sebuah perubahan untuk Anda karena itu dapat membuat Anda melihat berbeda dan membantu Anda memahami bagaimana tings wok. Pertama-tama itu dapat membuat Anda melihat berbeda daripada yang lain. Contohnya saya ingat bahwa ketika saya datang ke Amerika Serikat saya berpikir bahwa tidak ada yang akan mengubah saya karena saya pikir tidak ada yang akan mengubah saya karena semuanya berbeda di negara saya dan kemudian saya realis bahwa salah karena sebuah masalah dapat mengubah Anda tetapi terkadang tidak dapat mengubah cara itu, tetapi saya ingat bahwa saya sangat malu tapi saya berpikir bahwa perubahan banyak karena terkadang masalah saya membuat saya berpikir bahwa ada lebih banyak hal yang saya tidak pernah lihat dalam hidup saya tapi saya hanya perlu melihatnya dari cara yang berbeda dan tidak membiarkan tidak ada yang terjadi dan memerintah perubahan yang saya ingin membuat karena hanya masalah. Contohnya saya berpikir bahwa tidak ada yang akan mengubah saya dan saya tidak perlu lagi menjadi saya harus mulai melihat semuanya dengan cara yang berbeda karena Anda dapat menjadi gila pada setiap orang namun Anda harus tahu apa yang akan terjadi setelah itu, orang-orang mungkin melihat Anda berbeda tapi satu satu-satunya cara yang Anda tahu bagaimana mengubah adalah dengan melakukan yang terbaik dan tidak membiarkan apapun atau membiarkan tubuh mengubah apapun tentang Anda. Cara yang Anda ingin mengubah tidak ada yang memiliki itu dan tidak dapat melakukan apapun tentangnya karena itu adalah pilihan Anda dan masalah Anda dan Anda dapat memutuskan apa yang harus dilakukan dengannya. kedua dari semua dapat membantu Anda untuk mengerti bagaimana hal-hal bekerja. Contohnya ibu saya memiliki banyak masalah namun dia memiliki keyakinan ketika dia berada di sekitar orang-orang, ibu saya takut akan tinggi dan saya tidak takut akan tinggi saya tidak mengerti mengapa mos saya',\n",
              " 'If you have nilai C, they masih harus dapat pergi for olahraga or kegiatan. Rata-rata C notlah buruk, nilainya lebih tinggi daripada rata-rata D. If you have rata-rata D yang lebih rendah, they not seharusnya melakukan olahraga or kegiatan. If you have rata-rata D di sekolah karena tidak bekerja keras, it berarti they not will berusaha keras. If you have rata-rata C dan they will berusaha keras they harus dapat pergi for olahraga or kegiatan. Bagaimana if semua orang yang baik dalam olahraga memiliki nilai C di sekolah, it berarti they not dapat bermain dan akan kehilangan setiap permainan yang kita miliki. Itu is kebijakan yang baik untuk mendapatkan nilai namun tidak mengambil sesuatu yang mereka pedulikan. Semua orang harus dapat pergi for olahraga if they mau. If you are about you but you will know how you are about you but we not seharusnya mengambil para siswa lain from yang lain. If you do not translate the keyword between brackets (e. g. ServerName, ServerAdmin, etc.)',\n",
              " 'Waktu terbaik dalam hidup is saat Anda menjadi diri Anda sendiri. Saya setuju bahwa pencapaian terbesar, is saat Anda menjadi diri Anda sendiri di dunia yang terus mencoba membuat Anda sesuatu yang lain. Karena Anda membuat pilihan Anda sendiri, Anda menjadi lebih bahagia, dan Anda menghormati orang lain. Pertama, Anda membuat pilihan Anda sendiri dengan menjadi diri Anda sendiri. Menjadi diri Anda sendiri berarti Anda harus dapat membuat pilihan Anda sendiri dan tidak malu atau takut akan apa yang Anda lakukan. Karena Anda mendefinisikan diri Anda sendiri dengan melakukan hal-hal yang Anda inginkan. Beberapa orang mengikuti orang lain, sehingga, mereka tidak membuat pilihan mereka sendiri. Orang-orang takut membuat pilihan mereka sendiri karena mereka tidak ingin ditolak or salah. Di dunia ini, sebagian besar remaja bertindak dan mengikuti orang-orang yang kuat dan nakal. Alasan mereka mengikuti mereka dan membuat pilihan yang sama yang mereka buat, adalah karena mereka takut mereka akan dipukuli dan ditinggalkan. Secara pribadi saat saya datang ke Amerika Serikat saya pernah mengikuti orang lain, karena saya pikir mereka luar biasa. Namun suatu hari, saya tahu saya berjalan di jalan yang salah dan saya meninggalkan mereka. Membuat pilihan Anda sendiri membuat Anda bahagia karena Anda dapat melakukan apa yang Anda inginkan dan apa yang Anda inginkan. Sulit untuk membuat pilihan Anda sendiri, tapi suatu hari Anda harus membuat pilihan Anda sendiri. Semakin dewasa Anda semakin mudah untuk tidak takut akan apa yang Anda lakukan dan bagaimana orang lain melihatnya, karena pada akhir hari itu hidup Anda dan Anda melakukan apa yang Anda pikir benar. Kedua, Anda menjadi lebih bahagia dengan menjadi diri Anda sendiri karena Anda membuat pilihan Anda sendiri, Anda bertanggung jawab dan Anda melakukan apa yang membuat Anda bahagia. Juga, beberapa orang bertindak seperti mereka bahagia walaupun tidak menjadi diri mereka sendiri, tapi sebenarnya, mereka',\n",
              " 'Tindakan kecil kebaikan dapat memberi dampak pada orang lain dapat mengubah orang menjadi orang yang lebih baik Anda dapat memiliki dampak kebaikan with seorang rumah tangga yang dapat mengubah hidupnya or with beberapa orang yang membutuhkan mereka akan tahu Anda adalah orang baik jika Anda adalah orang baik di mana saja Anda pergi orang akan menyukai kepribadian Anda jadi Anda harus menjadi orang baik dengan orang lain seperti wanita tua yang mencoba melintasi jalan itu dampak kebaikan saat Anda melakukannya Anda merasa menjadi orang hebat Anda dapat mengubah orang dengan cara mereka berpikir dengan membantu orang lain merawat orang lain dengan baik memberi mereka beberapa saran saat Anda melihat seseorang memerlukannya membantu seseorang yang lebih tua lalu Anda memberikan makanan dan pakaian baru kepada orang tunawisma adalah suatu tindakan besar kebaikan mungkin Anda takut mengubah hidupnya namun Anda akan mengubah suatu hari dalam hidupnya saat Anda melakukan hal-hal yang Anda rasakan emosional. Contoh lain from tindakan kebaikan adalah saat Anda membantu teman Anda untuk belajar untuk sebuah tes atau menjelaskan mereka atau saat mereka memerlukan uang Anda memberi uang adalah suatu tindakan kebaikan karena Anda membantu teman Anda. Contoh lain is not menuang sampah ke lantai jika Anda menaruh sampah di tempat yang dimiliki itu adalah suatu tindakan kebaikan karena memberi manfaat kepada Bumi dan masyarakat..',\n",
              " 'Alasannya, is agar para siswa dapat belajar apa yang diperlukan oleh komunitas kami, bagaimana membuat komunitas kami menjadi tempat yang lebih baik, dan mengapa komunitas kami penting bagi para siswa. Sangat bagus untuk memiliki pusat komunitas untuk mengetahui bagaimana kami dapat membuat hal-hal lebih baik. Para siswa berpikir bahwa pusat komunitas mengambil waktu mereka. tapi mereka harus belajar apa yang diperlukan oleh komunitas kami. para siswa akan berpartisipasi dalam kelompok siswa membuat daftar apa yang diperlukan oleh komunitas kami, sehingga para siswa akan belajar apa yang diperlukan oleh komunitas kami! para siswa akan menunjukkan daftar hal-hal yang diperlukan oleh komunitas kami! karena para siswa akan memberikan penghargaan ekstra untuk mereka yang memiliki nilai rendah! Beberapa siswa tidak berpartisipasi karena teman mereka berkata membuang waktunya. tidak akan membuang waktu ketika Anda mengetahui bagaimana komunitas kami dapat menjadi tempat yang lebih baik bagi kami. para siswa harus tahu bahwa program ini tentang hidup kami sendiri, karena jika komunitas kami buruk dan hidup kami akan menjadi buruk. karena para siswa akan ingin berpartisipasi dan akan ingin membuat komunitas kami menjadi tempat yang lebih baik bagi kami. beberapa siswa mungkin berkata mengapa komunitas kami penting bagaimanapun juga, tidak ada apa-apa yang salah. tapi ketika mereka tahu apa yang diperlukan oleh komunitas kami, mereka akan ingin tahu dan ingin berpartisipasi dan tahu mengapa komunitas kami penting. para siswa akan memperoleh nilai yang bagus jika mereka berpartisipasi dalam komunitas kami karena itu seperti sebuah penghargaan tambahan. karena teman mereka akan ingin menikmati program ini karena teman mereka mengatakannya tentang hal itu. jadi kepala sekolah kami akan menjadi tempat yang bagus bagi para siswa untuk belajar banyak hal. jadi saya rasa ini akan menjadi ide bagus untuk sekolah kami. para siswa akan belajar apa yang diperlukan oleh komunitas kami, bagaimana membuat komunitas kami menjadi tempat yang lebih baik, dan mengapa komunitas kami penting! Sincerely, STUDENT_NAME']"
            ]
          },
          "metadata": {},
          "execution_count": 24
        }
      ]
    }
  ]
}